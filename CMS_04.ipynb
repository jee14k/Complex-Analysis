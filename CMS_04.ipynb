{
 "cells": [
  {
   "cell_type": "markdown",
   "metadata": {},
   "source": [
    "# <center>LAB RECORD</center>\n",
    "#### <center>MAT651<br><br>1740204</center> \n",
    "***\n",
    "|<center>INDEX</center>|\n",
    "|-----------------------|\n",
    "| <center>1. Revision</center>|\n",
    "|<center>2. Inroduction to Complex Numbers</center>|\n",
    "|<center>3. $n^{th}$ root of a complex number</center>|\n",
    "|<center>4. $f(z)$ if $u+v$/$u-v$ are given<center>|\n",
    "|<center>5. Check if $f(z)$ is analytic <center>|\n",
    "|<center>6. Check if $f(z)$ is harmonic <center>|\n",
    "|<center>7. Harmonic Conjugate <center>|\n",
    "|<center>8. Bilinear Transformations <center>|\n",
    "\n",
    "***\n",
    "\n",
    "\n",
    "## <center>Revision</center> \n",
    "### <center>Aim</center>\n",
    "<center>To revise and revisit basic concepts in python that we had done in the previous semesters</center>\n",
    "\n"
   ]
  },
  {
   "cell_type": "code",
   "execution_count": 2,
   "metadata": {
    "collapsed": true
   },
   "outputs": [],
   "source": [
    "import matplotlib.pyplot as plt\n",
    "import numpy as np\n",
    "from mpl_toolkits import mplot3d\n",
    "import sympy as sy "
   ]
  },
  {
   "cell_type": "code",
   "execution_count": 8,
   "metadata": {},
   "outputs": [
    {
     "name": "stdout",
     "output_type": "stream",
     "text": [
      "*               * \r\n",
      "  *           *   \r\n",
      "    *       *     \r\n",
      "      *   *       \r\n",
      "        *         \r\n",
      "        *         \r\n",
      "        *         \r\n",
      "        *         \r\n",
      "        *         \r\n"
     ]
    }
   ],
   "source": [
    "n=8\n",
    "for i in range(n+1):\n",
    "    for j in range(n+1):\n",
    "        if(i<=n/2):\n",
    "            if((i==j) or (j==(n+1-i-1))):\n",
    "                print(\"*\",end=\" \")\n",
    "            else:\n",
    "                print(\" \",end=\" \")\n",
    "        else:\n",
    "            if(j==n/2):\n",
    "                print(\"*\",end=\" \")\n",
    "            else:\n",
    "                print(\" \",end=\" \")\n",
    "    print(\"\\r\")"
   ]
  },
  {
   "cell_type": "code",
   "execution_count": 9,
   "metadata": {},
   "outputs": [
    {
     "name": "stdout",
     "output_type": "stream",
     "text": [
      "* * * * * * **\r\n",
      "           *  \r\n",
      "         *    \r\n",
      "       *      \r\n",
      "     *        \r\n",
      "   *          \r\n",
      " *            \r\n",
      "* * * * * * * \r\n"
     ]
    }
   ],
   "source": [
    "n=6\n",
    "\n",
    "for i in range(n+2):\n",
    "    for j in range(n+1):\n",
    "        if((i==0) or (i==n+1)):\n",
    "            print(\"*\",end=\"\")\n",
    "        else:\n",
    "            print(\"\",end=\" \")\n",
    "        if(j==(n+1-i-1)):\n",
    "            print(\"*\",end=\"\")\n",
    "        else:\n",
    "            print(\" \",end=\"\")\n",
    "        \n",
    "\n",
    "    print(\"\\r\")"
   ]
  },
  {
   "cell_type": "code",
   "execution_count": 10,
   "metadata": {},
   "outputs": [
    {
     "name": "stdout",
     "output_type": "stream",
     "text": [
      "Enter a number :66\n",
      "Factors : \n",
      "[1, 2, 3, 6, 11, 22, 33, 66]\n"
     ]
    }
   ],
   "source": [
    "flag=0\n",
    "fact=[]\n",
    "n=int(input(\"Enter a number :\"))\n",
    "for i in range(2,round(n/2)):\n",
    "    if(n%i==0):\n",
    "        flag=1\n",
    "        break\n",
    "        \n",
    "if(flag==1):\n",
    "    for i in range(1,n):\n",
    "        if(n%i==0):\n",
    "            fact.append(i)\n",
    "    fact.append(n)\n",
    "            \n",
    "    print(\"Factors : \")\n",
    "    print(fact) \n",
    "else:\n",
    "    print(\"Prime Number\")"
   ]
  },
  {
   "cell_type": "markdown",
   "metadata": {},
   "source": [
    "#### Scatter plot"
   ]
  },
  {
   "cell_type": "code",
   "execution_count": 11,
   "metadata": {},
   "outputs": [
    {
     "data": {
      "image/png": "[encoded data removed]",
      "text/plain": [
       "<Figure size 432x288 with 1 Axes>"
      ]
     },
     "metadata": {
      "needs_background": "light"
     },
     "output_type": "display_data"
    }
   ],
   "source": [
    "x=[1,2,3,4,5,6,7,8,9,10]\n",
    "y=[2,4,5,6,6,8,9,5,6.5,5]\n",
    "plt.scatter(x,y)\n",
    "plt.show()"
   ]
  },
  {
   "cell_type": "markdown",
   "metadata": {},
   "source": [
    "#### 2D plot"
   ]
  },
  {
   "cell_type": "code",
   "execution_count": 12,
   "metadata": {},
   "outputs": [
    {
     "data": {
      "text/plain": [
       "[<matplotlib.lines.Line2D at 0x114684bd0>]"
      ]
     },
     "execution_count": 12,
     "metadata": {},
     "output_type": "execute_result"
    },
    {
     "data": {
      "image/png": "[encoded data removed]",
      "text/plain": [
       "<Figure size 432x288 with 1 Axes>"
      ]
     },
     "metadata": {
      "needs_background": "light"
     },
     "output_type": "display_data"
    }
   ],
   "source": [
    "x=np.linspace(0,4*np.pi,100)\n",
    "y=np.sin(x)\n",
    "plt.plot(x,y)"
   ]
  },
  {
   "cell_type": "markdown",
   "metadata": {},
   "source": [
    "#### 3D Plot"
   ]
  },
  {
   "cell_type": "code",
   "execution_count": 13,
   "metadata": {},
   "outputs": [
    {
     "data": {
      "text/plain": [
       "[<mpl_toolkits.mplot3d.art3d.Line3D at 0x11453e050>]"
      ]
     },
     "execution_count": 13,
     "metadata": {},
     "output_type": "execute_result"
    },
    {
     "data": {
      "image/png": "[encoded data removed]",
      "text/plain": [
       "<Figure size 432x288 with 1 Axes>"
      ]
     },
     "metadata": {
      "needs_background": "light"
     },
     "output_type": "display_data"
    }
   ],
   "source": [
    "fig = plt.figure()\n",
    "ax = plt.axes(projection='3d')\n",
    "x=np.linspace(0,75,1000)\n",
    "y=np.sin(x)\n",
    "z=np.cos(x)\n",
    "ax.plot3D(x, y, z)"
   ]
  },
  {
   "cell_type": "markdown",
   "metadata": {},
   "source": [
    "#### Sub plots"
   ]
  },
  {
   "cell_type": "code",
   "execution_count": 14,
   "metadata": {},
   "outputs": [
    {
     "name": "stderr",
     "output_type": "stream",
     "text": [
      "/usr/local/lib/python3.7/site-packages/ipykernel_launcher.py:11: RuntimeWarning: divide by zero encountered in true_divide\n",
      "  # This is added back by InteractiveShellApp.init_path()\n",
      "/usr/local/lib/python3.7/site-packages/ipykernel_launcher.py:15: RuntimeWarning: divide by zero encountered in true_divide\n",
      "  from ipykernel import kernelapp as app\n"
     ]
    },
    {
     "data": {
      "text/plain": [
       "[<matplotlib.lines.Line2D at 0x114923890>]"
      ]
     },
     "execution_count": 14,
     "metadata": {},
     "output_type": "execute_result"
    },
    {
     "data": {
      "image/png": "[encoded data removed]",
      "text/plain": [
       "<Figure size 432x288 with 4 Axes>"
      ]
     },
     "metadata": {
      "needs_background": "light"
     },
     "output_type": "display_data"
    }
   ],
   "source": [
    "plt.subplot(221)\n",
    "x=np.linspace(0,1000,30)\n",
    "plt.plot(np.sin(x))\n",
    "\n",
    "\n",
    "plt.subplot(222)\n",
    "plt.plot(np.cos(x))\n",
    "\n",
    "\n",
    "plt.subplot(223)\n",
    "plt.plot(1/np.tan(x))\n",
    "\n",
    "\n",
    "plt.subplot(224)\n",
    "plt.plot(1/np.sqrt(x*x))"
   ]
  },
  {
   "cell_type": "markdown",
   "metadata": {},
   "source": [
    "### <center>Conclusion</center>\n",
    "<center>The basic concepts have been revisited and a graphs were plotted.</center>\n",
    "\n",
    "***"
   ]
  },
  {
   "cell_type": "markdown",
   "metadata": {},
   "source": [
    "\n",
    "## <center>Introduction to Complex Numbers</center> \n",
    "### <center>Aim</center>\n",
    "<center>To learn the basics of complex numbers and their implementation in Python. We used a few functions associated with complex numbers such as 'polar()','phase()', 'rect()'\n",
    "\n",
    "\n",
    "\n",
    "\n"
   ]
  },
  {
   "cell_type": "markdown",
   "metadata": {},
   "source": [
    "#### Find an application of Complex Analysis"
   ]
  },
  {
   "cell_type": "markdown",
   "metadata": {},
   "source": [
    "Complex Analysis has various applications. It can be used for designing a DC motor control unit.  \n",
    "Complex Analysis can also be used for Black-Scholes Model. The Black-Scholes model is used for computing the option price using three different methods, out of which one is using Complex Analysis."
   ]
  },
  {
   "cell_type": "code",
   "execution_count": 19,
   "metadata": {
    "collapsed": true
   },
   "outputs": [],
   "source": [
    "from cmath import *\n",
    "import numpy as np"
   ]
  },
  {
   "cell_type": "markdown",
   "metadata": {},
   "source": [
    "#### Define 2 complex numbers and perform arithmetic operations"
   ]
  },
  {
   "cell_type": "code",
   "execution_count": 24,
   "metadata": {
    "collapsed": true
   },
   "outputs": [],
   "source": [
    "x=complex(2,3)\n",
    "y=complex(4,2)"
   ]
  },
  {
   "cell_type": "code",
   "execution_count": 25,
   "metadata": {},
   "outputs": [
    {
     "name": "stdout",
     "output_type": "stream",
     "text": [
      "Arithmetic Operations :\n",
      "Addition :  (6+5j) \n",
      "Subtraction :  (-2+1j) \n",
      "Multiplication :  (2+16j) \n",
      "Division :  (0.7+0.4j)\n"
     ]
    }
   ],
   "source": [
    "addition=x+y\n",
    "subtraction=x-y\n",
    "multiplication=x*y\n",
    "division=x/y\n",
    "print(\"Arithmetic Operations :\")\n",
    "print(\"Addition : \",addition,\"\\nSubtraction : \",subtraction,\"\\nMultiplication : \",multiplication,\"\\nDivision : \",division)"
   ]
  },
  {
   "cell_type": "markdown",
   "metadata": {},
   "source": [
    "#### Find the polar of a complex number"
   ]
  },
  {
   "cell_type": "code",
   "execution_count": 26,
   "metadata": {},
   "outputs": [
    {
     "name": "stdout",
     "output_type": "stream",
     "text": [
      "(3.605551275463989, 0.982793723247329)\n"
     ]
    }
   ],
   "source": [
    "p=polar(x)\n",
    "print(p)"
   ]
  },
  {
   "cell_type": "markdown",
   "metadata": {},
   "source": [
    "#### Find the rectangular/cartesian form of a complex number"
   ]
  },
  {
   "cell_type": "code",
   "execution_count": 33,
   "metadata": {},
   "outputs": [
    {
     "name": "stdout",
     "output_type": "stream",
     "text": [
      "(2+2.9999999999999996j)\n"
     ]
    }
   ],
   "source": [
    "p1,p2=list(polar(x))\n",
    "ans=rect(p1,p2)\n",
    "print(ans)"
   ]
  },
  {
   "cell_type": "markdown",
   "metadata": {},
   "source": [
    "#### Find the phase of a complex number"
   ]
  },
  {
   "cell_type": "code",
   "execution_count": 17,
   "metadata": {},
   "outputs": [
    {
     "data": {
      "text/plain": [
       "0.983"
      ]
     },
     "execution_count": 17,
     "metadata": {},
     "output_type": "execute_result"
    }
   ],
   "source": [
    "round(phase(x),3)"
   ]
  },
  {
   "cell_type": "markdown",
   "metadata": {},
   "source": [
    "#### Extract the real and imaginary part from a complex number"
   ]
  },
  {
   "cell_type": "code",
   "execution_count": 12,
   "metadata": {},
   "outputs": [
    {
     "name": "stdout",
     "output_type": "stream",
     "text": [
      "Real part :  2.0 \n",
      "Imaginary part :  3.0\n"
     ]
    }
   ],
   "source": [
    "rp=np.real(x)\n",
    "imagp=np.imag(x)\n",
    "print(\"Real part : \",rp,\"\\nImaginary part : \",imagp)"
   ]
  },
  {
   "cell_type": "markdown",
   "metadata": {},
   "source": [
    "#### Can you take sin of a complex number?\n",
    "  __ANS__ : Yes"
   ]
  },
  {
   "cell_type": "markdown",
   "metadata": {},
   "source": [
    "##### Difference between sin function in math library and cmath library\n",
    "\n",
    "math library is a library that is readily available to use. The math library provides functions to work with intergers, floats and other numeric datatypes (other than complex numbers). Almost all functions return a float value , unless specified otherwise.  \n",
    "examples : \n",
    "* ```sum()```\n",
    "* ```factorial()```\n",
    "* ```round()```\n",
    "\n",
    "\n",
    "cmath library is a library that provides specific functions and implementations to work with complex numbers. The functions take integers, floats and complex numbers as their argument and return either float or complex numbers. The cmath library needs to be imported before use.  \n",
    "exmaple :  \n",
    "* ```polar()```\n",
    "* ```rect()```\n",
    "* ```phase()```\n",
    "\n",
    "The sin function in the math library is used to return the sine function of a number.  \n",
    "it is used in the following manner :   \n",
    "```x=sin(45)```  \n",
    "here x is now the sin value of 45\n",
    "\n",
    "The sin function in the cmath library is used to return the sine function of a complex number.\n",
    "it is used in the following manner :   \n",
    "\n",
    "```x = cmath.sin(z)```  \n",
    "\n",
    "where z is any complex number\n"
   ]
  },
  {
   "cell_type": "markdown",
   "metadata": {},
   "source": [
    "#### Argument of a complex number"
   ]
  },
  {
   "cell_type": "code",
   "execution_count": 16,
   "metadata": {},
   "outputs": [
    {
     "name": "stdout",
     "output_type": "stream",
     "text": [
      "Argument of (2+3j) : 0.98\n"
     ]
    }
   ],
   "source": [
    "def arg(x):\n",
    "    return phase(x)\n",
    "\n",
    "print(\"Argument of\",x,\":\",round(arg(x),2))"
   ]
  },
  {
   "cell_type": "markdown",
   "metadata": {},
   "source": [
    "#### Verification of Eulers formula"
   ]
  },
  {
   "cell_type": "code",
   "execution_count": 43,
   "metadata": {},
   "outputs": [
    {
     "name": "stdout",
     "output_type": "stream",
     "text": [
      "Enter the real part :1\n",
      "Enter the imaginary part :2\n",
      "(9.154974892096355+0j)\n",
      "2.23606797749979\n",
      "Not Verified\n"
     ]
    }
   ],
   "source": [
    "r=int(input(\"Enter the real part :\"))\n",
    "i=int(input(\"Enter the imaginary part :\"))\n",
    "z=complex(r,i)\n",
    "lhs=exp(np.angle(z)*i)\n",
    "print(lhs)\n",
    "rhs=(np.cos(np.angle(z)) + i * np.sin(np.angle(z)))\n",
    "print(rhs)\n",
    "if(lhs==rhs):\n",
    "    print(\"Verified\")\n",
    "else:\n",
    "    print(\"Not Verified\")"
   ]
  },
  {
   "cell_type": "markdown",
   "metadata": {},
   "source": [
    "\n",
    "### Plotting Complex Numbers\n"
   ]
  },
  {
   "cell_type": "code",
   "execution_count": 19,
   "metadata": {},
   "outputs": [
    {
     "data": {
      "image/png": "[encoded data removed]",
      "text/plain": [
       "<Figure size 432x288 with 1 Axes>"
      ]
     },
     "metadata": {
      "needs_background": "light"
     },
     "output_type": "display_data"
    }
   ],
   "source": [
    "z=complex(2,3)\n",
    "r=np.abs(z)\n",
    "theta=np.angle(z)\n",
    "plt.polar([0,theta],[0,r],marker=\"o\",color=\"red\")\n",
    "plt.show()"
   ]
  },
  {
   "cell_type": "code",
   "execution_count": 18,
   "metadata": {},
   "outputs": [
    {
     "data": {
      "image/png": "[encoded data removed]",
      "text/plain": [
       "<Figure size 432x288 with 1 Axes>"
      ]
     },
     "metadata": {
      "needs_background": "light"
     },
     "output_type": "display_data"
    }
   ],
   "source": [
    "z=complex(-5,3)\n",
    "r=np.abs(z)\n",
    "theta=np.angle(z)\n",
    "plt.polar([0,theta],[0,r],marker=\"o\",color=\"green\")\n",
    "plt.show()"
   ]
  },
  {
   "cell_type": "code",
   "execution_count": 140,
   "metadata": {},
   "outputs": [
    {
     "data": {
      "image/png": "[encoded data removed]",
      "text/plain": [
       "<Figure size 432x288 with 1 Axes>"
      ]
     },
     "metadata": {
      "needs_background": "light"
     },
     "output_type": "display_data"
    }
   ],
   "source": [
    "z=[[2,2],[5,7],[8,12],[11,17],[14,19]]\n",
    "for i in z:\n",
    "    i=complex(i[0],i[1])\n",
    "    plt.polar([0,np.angle(i)],[0,np.abs(i)],marker=\"*\")\n",
    "    \n",
    "    \n",
    "plt.show()"
   ]
  },
  {
   "cell_type": "code",
   "execution_count": 16,
   "metadata": {},
   "outputs": [
    {
     "data": {
      "image/png": "[encoded data removed]",
      "text/plain": [
       "<Figure size 432x288 with 1 Axes>"
      ]
     },
     "metadata": {
      "needs_background": "light"
     },
     "output_type": "display_data"
    }
   ],
   "source": [
    "z=[[1,4],[4,8],[7,32],[48,4]]\n",
    "for i in z:\n",
    "    i=complex(i[0],i[1])\n",
    "    plt.polar([0,np.angle(i)],[0,np.abs(i)],marker=\"o\")\n",
    "    \n",
    "    \n",
    "plt.show()"
   ]
  },
  {
   "cell_type": "markdown",
   "metadata": {},
   "source": [
    "#### Write the following Complex Numbers in their Polar Form  \n",
    "* 1+i\n",
    "* 5-5i\n",
    "* 6i\n",
    "* -$\\sqrt{3}$ + i\n",
    "* -2-2$\\sqrt{3}$i"
   ]
  },
  {
   "cell_type": "code",
   "execution_count": 5,
   "metadata": {},
   "outputs": [
    {
     "name": "stdout",
     "output_type": "stream",
     "text": [
      "Polar form of (1+1j) : (1.4142135623730951, 0.7853981633974483)\n",
      "Polar form of (5-5j) : (7.0710678118654755, -0.7853981633974483)\n",
      "Polar form of 6j : (6.0, 1.5707963267948966)\n",
      "Polar form of (-1.7320508075688772+1j) : (2.0, 2.6179938779914944)\n",
      "Polar form of (-2-3.4641016151377544j) : (4.0, -2.0943951023931957)\n"
     ]
    }
   ],
   "source": [
    "z1=[[1,1],[5,-5],[0,6],[-np.sqrt(3),1],[-2,-2*np.sqrt(3)]]\n",
    "for i in z1:\n",
    "    z=complex(i[0],i[1])\n",
    "    print(\"Polar form of\",z,\":\",polar(z))\n",
    "    "
   ]
  },
  {
   "cell_type": "markdown",
   "metadata": {},
   "source": [
    "#### State and prove De'Moivre's Theorem"
   ]
  },
  {
   "cell_type": "code",
   "execution_count": 12,
   "metadata": {},
   "outputs": [
    {
     "name": "stdout",
     "output_type": "stream",
     "text": [
      "Enter the real part :2\n",
      "Enter the imaginary part :3\n",
      "1\n",
      "Verified for 1\n",
      "Not Verified for 2\n",
      "Not Verified for 3\n",
      "Not Verified for 4\n",
      "Not Verified for 5\n",
      "Not Verified for 6\n",
      "Not Verified for 7\n",
      "Not Verified for 8\n",
      "Not Verified for 9\n",
      "Not Verified for 10\n"
     ]
    }
   ],
   "source": [
    "r=float(input(\"Enter the real part :\"))\n",
    "im=float(input(\"Enter the imaginary part :\"))\n",
    "z=complex(r,i)\n",
    "ang=int(np.angle(z))\n",
    "n=[1,2,3,4,5,6,7,8,9,10]\n",
    "\n",
    "print(ang)\n",
    "\n",
    "for i in n:\n",
    "    lhs=(np.cos(ang) + im*np.sin(ang))**i\n",
    "    rhs=(np.cos(i*ang)+im*np.sin(i*ang))\n",
    "    if(lhs==rhs):\n",
    "        print(\"Verified for\",i)\n",
    "    else:\n",
    "        print(\"Not Verified for\",i)"
   ]
  },
  {
   "cell_type": "markdown",
   "metadata": {},
   "source": [
    "#### Find n^th value for the following :"
   ]
  },
  {
   "cell_type": "markdown",
   "metadata": {},
   "source": [
    "\\$(2i)^{(1/2)}\\$"
   ]
  },
  {
   "cell_type": "code",
   "execution_count": 6,
   "metadata": {},
   "outputs": [
    {
     "data": {
      "text/plain": [
       "[(1.0000000000000002+1j), (-1.0000000000000002-1j)]"
      ]
     },
     "execution_count": 6,
     "metadata": {},
     "output_type": "execute_result"
    }
   ],
   "source": [
    "z=[0,2]\n",
    "n=2\n",
    "root=[]\n",
    "for i in range(0,n):\n",
    "    r,theta=polar(complex(z[0],z[1]))\n",
    "    root.append(complex(r**(1/n)*(np.cos((2*np.pi*i+theta)/n)),r**(1/n)*np.sin((2*np.pi*i+theta)/n)))\n",
    "    \n",
    "root"
   ]
  },
  {
   "cell_type": "markdown",
   "metadata": {},
   "source": [
    "(1+i)$^{(1/3)}$\n"
   ]
  },
  {
   "cell_type": "code",
   "execution_count": 7,
   "metadata": {},
   "outputs": [
    {
     "data": {
      "text/plain": [
       "[(1.0842150814913512+0.2905145555072514j),\n",
       " (-0.7937005259840997+0.7937005259840998j),\n",
       " (-0.2905145555072513-1.0842150814913512j)]"
      ]
     },
     "execution_count": 7,
     "metadata": {},
     "output_type": "execute_result"
    }
   ],
   "source": [
    "z=[1,1]\n",
    "n=3\n",
    "root=[]\n",
    "for i in range(0,n):\n",
    "    r,theta=polar(complex(z[0],z[1]))\n",
    "    root.append(complex(r**(1/n)*(np.cos((2*np.pi*i+theta)/n)),r**(1/n)*np.sin((2*np.pi*i+theta)/n)))\n",
    "    \n",
    "root"
   ]
  },
  {
   "cell_type": "markdown",
   "metadata": {},
   "source": [
    "(1+i)$^{(1/5)}$\n"
   ]
  },
  {
   "cell_type": "code",
   "execution_count": 8,
   "metadata": {},
   "outputs": [
    {
     "data": {
      "text/plain": [
       "[(1.0585781527063765+0.16766230825618095j),\n",
       " (0.167662308256181+1.0585781527063765j),\n",
       " (-0.9549571475717944+0.4865749698644362j),\n",
       " (-0.7578582832551992-0.757858283255199j),\n",
       " (0.486574969864436-0.9549571475717946j)]"
      ]
     },
     "execution_count": 8,
     "metadata": {},
     "output_type": "execute_result"
    }
   ],
   "source": [
    "z=[1,1]\n",
    "n=5\n",
    "root=[]\n",
    "for i in range(0,n):\n",
    "    r,theta=polar(complex(z[0],z[1]))\n",
    "    root.append(complex(r**(1/n)*(np.cos((2*np.pi*i+theta)/n)),r**(1/n)*np.sin((2*np.pi*i+theta)/n)))\n",
    "    \n",
    "root"
   ]
  },
  {
   "cell_type": "markdown",
   "metadata": {},
   "source": [
    "(3+4i)$^{(1/2)}$\n"
   ]
  },
  {
   "cell_type": "code",
   "execution_count": 9,
   "metadata": {},
   "outputs": [
    {
     "data": {
      "text/plain": [
       "[(2+1j), (-2.0000000000000004-0.9999999999999999j)]"
      ]
     },
     "execution_count": 9,
     "metadata": {},
     "output_type": "execute_result"
    }
   ],
   "source": [
    "z=[3,4]\n",
    "n=2\n",
    "root=[]\n",
    "for i in range(0,n):\n",
    "    r,theta=polar(complex(z[0],z[1]))\n",
    "    root.append(complex(r**(1/n)*(np.cos((2*np.pi*i+theta)/n)),r**(1/n)*np.sin((2*np.pi*i+theta)/n)))\n",
    "    \n",
    "root"
   ]
  },
  {
   "cell_type": "markdown",
   "metadata": {},
   "source": [
    "($\\frac{16i}{1+i}$)$^{1/8}$"
   ]
  },
  {
   "cell_type": "code",
   "execution_count": 10,
   "metadata": {},
   "outputs": [
    {
     "data": {
      "text/plain": [
       "[(0.999134135620117+0.020791254861286104j),\n",
       " (-0.5175728226964889+0.8548799158045848j),\n",
       " (-0.48156131292362786-0.875671170665871j)]"
      ]
     },
     "execution_count": 10,
     "metadata": {},
     "output_type": "execute_result"
    }
   ],
   "source": [
    "z=[0,16]\n",
    "z2=[1,1]\n",
    "n=3\n",
    "root=[]\n",
    "for i in range(0,n):\n",
    "    r,theta=polar((complex(z[0],z[1])/complex(z2[0],z[1])))\n",
    "    root.append(complex(r**(1/n)*(np.cos((2*np.pi*i+theta)/n)),r**(1/n)*np.sin((2*np.pi*i+theta)/n)))\n",
    "    \n",
    "root"
   ]
  },
  {
   "cell_type": "markdown",
   "metadata": {},
   "source": [
    "(-i)$^{1/4}$"
   ]
  },
  {
   "cell_type": "code",
   "execution_count": 12,
   "metadata": {},
   "outputs": [
    {
     "data": {
      "text/plain": [
       "[(0.9238795325112867-0.3826834323650898j),\n",
       " (0.38268343236508984+0.9238795325112867j),\n",
       " (-0.9238795325112867+0.38268343236508984j),\n",
       " (-0.38268343236509034-0.9238795325112865j)]"
      ]
     },
     "execution_count": 12,
     "metadata": {},
     "output_type": "execute_result"
    }
   ],
   "source": [
    "z=[0,-1]\n",
    "n=4\n",
    "root=[]\n",
    "for i in range(0,n):\n",
    "    r,theta=polar(complex(z[0],z[1]))\n",
    "    root.append(complex(r**(1/n)*(np.cos((2*np.pi*i+theta)/n)),r**(1/n)*np.sin((2*np.pi*i+theta)/n)))\n",
    "    \n",
    "root"
   ]
  },
  {
   "cell_type": "markdown",
   "metadata": {},
   "source": [
    "(-i)$^{1/3}$"
   ]
  },
  {
   "cell_type": "code",
   "execution_count": 11,
   "metadata": {},
   "outputs": [
    {
     "data": {
      "text/plain": [
       "[(0.8660254037844387-0.49999999999999994j),\n",
       " (6.123233995736766e-17+1j),\n",
       " (-0.8660254037844388-0.4999999999999998j)]"
      ]
     },
     "execution_count": 11,
     "metadata": {},
     "output_type": "execute_result"
    }
   ],
   "source": [
    "z=[0,-1]\n",
    "n=3\n",
    "root=[]\n",
    "for i in range(0,n):\n",
    "    r,theta=polar(complex(z[0],z[1]))\n",
    "    root.append(complex(r**(1/n)*(np.cos((2*np.pi*i+theta)/n)),r**(1/n)*np.sin((2*np.pi*i+theta)/n)))\n",
    "    \n",
    "root"
   ]
  },
  {
   "cell_type": "markdown",
   "metadata": {},
   "source": [
    "(-1-$\\sqrt{3}$)$^{1/2}$"
   ]
  },
  {
   "cell_type": "code",
   "execution_count": 46,
   "metadata": {},
   "outputs": [
    {
     "data": {
      "text/plain": [
       "[(-0.7071067811865472+1.2247448713915894j)]"
      ]
     },
     "execution_count": 46,
     "metadata": {},
     "output_type": "execute_result"
    }
   ],
   "source": [
    "z=[-1,-np.sqrt(3)]\n",
    "n=2\n",
    "root=[]\n",
    "for i in range(1,n):\n",
    "    r,theta=polar(complex(z[0],z[1]))\n",
    "    root.append(complex(r**(1/n)*(np.cos((2*np.pi*i+theta)/n)),r**(1/n)*np.sin((2*np.pi*i+theta)/n)))\n",
    "    \n",
    "root"
   ]
  },
  {
   "cell_type": "markdown",
   "metadata": {},
   "source": [
    "($\\frac{1+i}{\\sqrt{3}+i}$)$^{1/6}$"
   ]
  },
  {
   "cell_type": "code",
   "execution_count": 47,
   "metadata": {},
   "outputs": [
    {
     "name": "stdout",
     "output_type": "stream",
     "text": [
      "(0.9429759534814443+0.04117121926905306j)\n"
     ]
    },
    {
     "data": {
      "text/plain": [
       "[(-0.7071067811865472+1.2247448713915894j)]"
      ]
     },
     "execution_count": 47,
     "metadata": {},
     "output_type": "execute_result"
    }
   ],
   "source": [
    "print(((complex(1,1))/complex(np.sqrt(3),1))**(1/6))\n",
    "z=[-1,-np.sqrt(3)]\n",
    "n=2\n",
    "root=[]\n",
    "for i in range(1,n):\n",
    "    r,theta=polar(complex(z[0],z[1]))\n",
    "    root.append(complex(r**(1/n)*(np.cos((2*np.pi*i+theta)/n)),r**(1/n)*np.sin((2*np.pi*i+theta)/n)))\n",
    "    \n",
    "root"
   ]
  },
  {
   "cell_type": "markdown",
   "metadata": {},
   "source": [
    "#### Sketch the graph for : \n",
    "$|z+i|$=2\n"
   ]
  },
  {
   "cell_type": "code",
   "execution_count": 7,
   "metadata": {},
   "outputs": [
    {
     "data": {
      "image/png": "[encoded data removed]",
      "text/plain": [
       "<Figure size 432x288 with 1 Axes>"
      ]
     },
     "metadata": {
      "needs_background": "light"
     },
     "output_type": "display_data"
    }
   ],
   "source": [
    "x=np.linspace(-5.0,5.0,500)\n",
    "y=np.linspace(-5.0,5.0,500)\n",
    "X,Y=np.meshgrid(x,y)\n",
    "f=X**2 + (Y+1)**2 - 4\n",
    "plt.contour(X,Y,f,0)\n",
    "plt.grid(True)\n",
    "plt.show()"
   ]
  },
  {
   "cell_type": "markdown",
   "metadata": {},
   "source": [
    "real(x)=5"
   ]
  },
  {
   "cell_type": "code",
   "execution_count": 52,
   "metadata": {},
   "outputs": [
    {
     "data": {
      "image/png": "[encoded data removed]",
      "text/plain": [
       "<Figure size 432x288 with 1 Axes>"
      ]
     },
     "metadata": {
      "needs_background": "light"
     },
     "output_type": "display_data"
    }
   ],
   "source": [
    "f=X-5\n",
    "plt.contour(X,Y,f,1)\n",
    "plt.grid(True)\n",
    "plt.show()"
   ]
  },
  {
   "cell_type": "markdown",
   "metadata": {},
   "source": [
    "imaginary($z$)=-2"
   ]
  },
  {
   "cell_type": "code",
   "execution_count": 47,
   "metadata": {},
   "outputs": [
    {
     "data": {
      "image/png": "[encoded data removed]",
      "text/plain": [
       "<Figure size 432x288 with 1 Axes>"
      ]
     },
     "metadata": {
      "needs_background": "light"
     },
     "output_type": "display_data"
    }
   ],
   "source": [
    "f= Y-2\n",
    "plt.contour(X,Y,f,0)\n",
    "plt.grid(True)\n",
    "plt.show()"
   ]
  },
  {
   "cell_type": "markdown",
   "metadata": {},
   "source": [
    "* imaginary($\\overline{z}$+3i)=6"
   ]
  },
  {
   "cell_type": "code",
   "execution_count": 68,
   "metadata": {},
   "outputs": [
    {
     "data": {
      "image/png": "[encoded data removed]",
      "text/plain": [
       "<Figure size 432x288 with 1 Axes>"
      ]
     },
     "metadata": {
      "needs_background": "light"
     },
     "output_type": "display_data"
    }
   ],
   "source": [
    "f= -(Y-3)-3\n",
    "plt.contour(X,Y,f,0)\n",
    "plt.grid(True)\n",
    "plt.show()"
   ]
  },
  {
   "cell_type": "markdown",
   "metadata": {},
   "source": [
    "$|2z + 3|<1$"
   ]
  },
  {
   "cell_type": "code",
   "execution_count": 11,
   "metadata": {},
   "outputs": [
    {
     "data": {
      "image/png": "[encoded data removed]",
      "text/plain": [
       "<Figure size 432x288 with 1 Axes>"
      ]
     },
     "metadata": {
      "needs_background": "light"
     },
     "output_type": "display_data"
    }
   ],
   "source": [
    "f=(2*x+3)**2+(2*Y)**2 -1\n",
    "plt.contourf(X,Y,f,0)\n",
    "plt.grid(True)\n",
    "plt.show()"
   ]
  },
  {
   "cell_type": "markdown",
   "metadata": {},
   "source": [
    "$|z|<=|2z+1|$"
   ]
  },
  {
   "cell_type": "code",
   "execution_count": 65,
   "metadata": {},
   "outputs": [
    {
     "data": {
      "image/png": "[encoded data removed]",
      "text/plain": [
       "<Figure size 432x288 with 1 Axes>"
      ]
     },
     "metadata": {
      "needs_background": "light"
     },
     "output_type": "display_data"
    }
   ],
   "source": [
    "f=X**2 + Y**2 - ((2*x+1)+(2*Y))\n",
    "plt.contourf(X,Y,f,0)\n",
    "plt.grid(True)\n",
    "plt.show()"
   ]
  },
  {
   "cell_type": "markdown",
   "metadata": {},
   "source": [
    "#### Find out which point is the farthest away from the origin :   \n",
    "* $z1$=2.5 + 1.5i\n",
    "* $z2$=1.5 - 2.9i\n",
    "* $z3$=-2.4 + 2.2i"
   ]
  },
  {
   "cell_type": "code",
   "execution_count": 17,
   "metadata": {},
   "outputs": [
    {
     "name": "stdout",
     "output_type": "stream",
     "text": [
      "Farthest point : 3.2649655434629015\n"
     ]
    },
    {
     "data": {
      "image/png": "[encoded data removed]",
      "text/plain": [
       "<Figure size 432x288 with 1 Axes>"
      ]
     },
     "metadata": {
      "needs_background": "light"
     },
     "output_type": "display_data"
    }
   ],
   "source": [
    "cn=[[2.5,1.5],[1.5,-2.9],[-2.4,2.2]]\n",
    "r=[]\n",
    "for i in cn:\n",
    "    z=complex(i[0],i[1])\n",
    "    r.append(np.sqrt((np.real(z)**2)+(np.imag(z)**2)))\n",
    "    plt.polar([0,np.angle(z)],[0,np.abs(z)],marker=\"o\")\n",
    "    \n",
    "print(\"Farthest point :\",max(r))"
   ]
  },
  {
   "cell_type": "markdown",
   "metadata": {},
   "source": [
    "#### If a + ib= $\\frac{3-i}{2+3i}$ + $\\frac{2-2i}{1-5i}$, find a and b"
   ]
  },
  {
   "cell_type": "code",
   "execution_count": 49,
   "metadata": {},
   "outputs": [
    {
     "name": "stdout",
     "output_type": "stream",
     "text": [
      "(0.23076923076923078-0.8461538461538461j)\n",
      "(0.4615384615384615+0.3076923076923077j)\n",
      "a,b =  (0.6923076923076923-0.5384615384615384j)\n"
     ]
    }
   ],
   "source": [
    "z1 = complex(3,-1)\n",
    "z2 = complex(2,3)\n",
    "z3 = complex(2,-2)\n",
    "z4 = complex(1,-5)\n",
    "print(z1/z2)\n",
    "print(z3/z4)\n",
    "z5 = (z1/z2)+(z3/z4)\n",
    "print(\"a,b = \",z5)"
   ]
  },
  {
   "cell_type": "markdown",
   "metadata": {},
   "source": [
    "### <center>Conclusion</center>\n",
    "<center>Basic operations on complex numbers were performed. The phase, rectangular form and polar form were found. The real and imaginary parts were extracted and a few complex numbers were plotted.</center>\n",
    "\n",
    "****"
   ]
  },
  {
   "cell_type": "markdown",
   "metadata": {},
   "source": [
    "## <center>LAB 3</center> \n",
    "### <center>$n^{th}$ root of a complex number\n",
    "### <center>Aim</center>\n",
    "<center>To calculate and plot the $n^{th}$ root of complex numbers</center>"
   ]
  },
  {
   "cell_type": "markdown",
   "metadata": {},
   "source": [
    "find the nth root of a complex number and plot its root on the polar plane\n",
    "find limit of real and complex function  \n",
    "find function if u and v is given.  \n"
   ]
  },
  {
   "cell_type": "code",
   "execution_count": 66,
   "metadata": {},
   "outputs": [
    {
     "data": {
      "image/png": "[encoded data removed]",
      "text/plain": [
       "<Figure size 432x288 with 1 Axes>"
      ]
     },
     "metadata": {
      "needs_background": "light"
     },
     "output_type": "display_data"
    }
   ],
   "source": [
    "z=[0,6]\n",
    "n=5\n",
    "root=[]\n",
    "for i in range(0,n):\n",
    "    r,theta=polar(complex(z[0],z[1]))\n",
    "    root.append(complex(r**(1/n)*(np.cos((2*np.pi*i+theta)/n)),r**(1/n)*np.sin((2*np.pi*i+theta)/n)))\n",
    "  \n",
    "for i in root:\n",
    "    plt.polar([0,np.angle(i)],[0,np.abs(i)],marker=\"*\")"
   ]
  },
  {
   "cell_type": "markdown",
   "metadata": {},
   "source": [
    "#### Limit of Real function\n"
   ]
  },
  {
   "cell_type": "code",
   "execution_count": 30,
   "metadata": {},
   "outputs": [
    {
     "name": "stdout",
     "output_type": "stream",
     "text": [
      "1\n"
     ]
    }
   ],
   "source": [
    "x=sy.symbols('x')\n",
    "f=sy.sin(x)+sy.cos(x)\n",
    "print(sy.limit(f,x,0))"
   ]
  },
  {
   "cell_type": "markdown",
   "metadata": {},
   "source": [
    "#### Limit of Complex Function\n",
    "\n"
   ]
  },
  {
   "cell_type": "code",
   "execution_count": 50,
   "metadata": {},
   "outputs": [
    {
     "name": "stdout",
     "output_type": "stream",
     "text": [
      "-2.0 - 4.8*I\n"
     ]
    }
   ],
   "source": [
    "z=sy.symbols(\"z\")\n",
    "f=((z)**2)/(1-z)\n",
    "z0=complex(1,5)\n",
    "lim=sy.limit(f,z,z0)\n",
    "print(lim.evalf())"
   ]
  },
  {
   "cell_type": "markdown",
   "metadata": {},
   "source": [
    "***"
   ]
  },
  {
   "cell_type": "markdown",
   "metadata": {},
   "source": [
    "## <center>LAB 4</center> \n",
    "### <center>Milne Thomson method</center> \n",
    "### <center>Aim</center>\n",
    "<center>To find the analytic function when u+v is given or u-v is given</center>\n"
   ]
  },
  {
   "cell_type": "markdown",
   "metadata": {},
   "source": [
    "to find f(x) when u+v or u-v is given"
   ]
  },
  {
   "cell_type": "code",
   "execution_count": 5,
   "metadata": {},
   "outputs": [
    {
     "name": "stdout",
     "output_type": "stream",
     "text": [
      "Differentiating w.r.t to x\n",
      "(sin(y) + cos(y))*exp(x)\n",
      "Differentiating w.r.t to y\n",
      "(-sin(y) + cos(y))*exp(x)\n"
     ]
    }
   ],
   "source": [
    "y=sy.symbols('y')\n",
    "x=sy.symbols('x')\n",
    "f=sy.exp(x)*((sy.cos(y) + sy.sin(y)))\n",
    "wrtx=sy.diff(f,x)\n",
    "print(\"Differentiating w.r.t to x\")\n",
    "print(wrtx)\n",
    "wrty=sy.diff(f,y)\n",
    "print(\"Differentiating w.r.t to y\")\n",
    "print(wrty)"
   ]
  },
  {
   "cell_type": "code",
   "execution_count": 6,
   "metadata": {},
   "outputs": [
    {
     "name": "stdout",
     "output_type": "stream",
     "text": [
      "u+v:  (sin(y) + cos(y))*exp(x)\n",
      "diff u+v wrt x:  (sin(y) + cos(y))*exp(x)\n",
      "diff u+v wrt y:  (-sin(y) + cos(y))*exp(x)\n",
      "diff u wrt x:  (-sin(y) + cos(y))*exp(x)/2 + (sin(y) + cos(y))*exp(x)/2\n",
      "dif v wrt x:  -(-sin(y) + cos(y))*exp(x)/2 + (sin(y) + cos(y))*exp(x)/2\n",
      "f(z)= c + exp(z)\n"
     ]
    }
   ],
   "source": [
    "def mtm_method_plus():\n",
    "    u,v,x,y,z,c= sy.symbols('u v x y z c')\n",
    "    expr=(sy.exp(x))*(sy.cos(y)+sy.sin(y))\n",
    "    print(\"u+v: \",expr)\n",
    "    diff_x=sy.diff(expr,x)\n",
    "    diff_y=sy.diff(expr,y)\n",
    "    print(\"diff u+v wrt x: \",diff_x)\n",
    "    print(\"diff u+v wrt y: \",diff_y)\n",
    "    diff_u=(diff_x+diff_y)/2\n",
    "    diff_v=(diff_x-diff_y)/2\n",
    "    print(\"diff u wrt x: \",diff_u)\n",
    "    print(\"dif v wrt x: \",diff_v)\n",
    "    diff_z=diff_u+1j*diff_v\n",
    "    #print(diff_z)\n",
    "    diff_z=diff_z.subs(x,z)\n",
    "    diff_z=diff_z.subs(y,0)\n",
    "    print(\"f(z)=\",sy.integrate(diff_z)+c)\n",
    "\n",
    "mtm_method_plus()"
   ]
  },
  {
   "cell_type": "markdown",
   "metadata": {},
   "source": [
    "#### Q). can you give arg of a function as function?  \n",
    "##### A). Yes\n",
    "#### Q). does a complex function take argument as a symbol\n",
    "##### A). Yes"
   ]
  },
  {
   "cell_type": "code",
   "execution_count": 7,
   "metadata": {},
   "outputs": [
    {
     "name": "stdout",
     "output_type": "stream",
     "text": [
      "second function\n",
      "cos(90)\n",
      "first function\n",
      "None\n"
     ]
    }
   ],
   "source": [
    "def f1(n):\n",
    "    print(\"first function\")\n",
    "    print(n)\n",
    "    \n",
    "    \n",
    "def f2(n):\n",
    "    print(\"second function\")\n",
    "    print(n)\n",
    "    \n",
    "f1(f2(sy.cos(90)))"
   ]
  },
  {
   "cell_type": "code",
   "execution_count": 8,
   "metadata": {},
   "outputs": [
    {
     "name": "stdout",
     "output_type": "stream",
     "text": [
      "cos(x) cos(x)\n",
      "1\n"
     ]
    }
   ],
   "source": [
    "def f3(a,b):\n",
    "    print(a,b)\n",
    "    print(sy.limit(a,x,0))\n",
    "    \n",
    "f3(sy.cos(x),sy.cos(x))"
   ]
  },
  {
   "cell_type": "code",
   "execution_count": 9,
   "metadata": {
    "collapsed": true
   },
   "outputs": [],
   "source": [
    "def f4(a):\n",
    "    print(a)\n",
    "    print(sy.limit(a,x,0))\n",
    "    \n",
    "    f4(sy.exp(x)*(sy.cos(x)+sy.sin(x)))"
   ]
  },
  {
   "cell_type": "markdown",
   "metadata": {},
   "source": [
    "### <center>Conclusion</center>\n",
    "<center>The analytic function was found and a few cases on functions were discussed</center>\n",
    "\n",
    "***"
   ]
  },
  {
   "cell_type": "markdown",
   "metadata": {},
   "source": [
    "## <center>LAB 5</center> \n",
    "### <center>Check if $f(z)$ is analytic</center> \n",
    "### <center>Aim</center>\n",
    "<center>Given a complex function $f(z)$, check if it is analytic or not</center>\n",
    "\n",
    "\n",
    "$f(z)$=\n"
   ]
  },
  {
   "cell_type": "code",
   "execution_count": 1,
   "metadata": {
    "collapsed": true
   },
   "outputs": [],
   "source": [
    "import cmath\n",
    "def analytic(u,v):\n",
    "    print(\"Given expression f(z):\",(u+1j*v))\n",
    "    diff_u_x=sy.diff(u,x)\n",
    "    print(\"\\nDerivative of u wrt x:\",diff_u_x)\n",
    "    diff_u_y=sy.diff(u,y)\n",
    "    print(\"Derivative of u wrt y:\",diff_u_y)\n",
    "    diff_v_x=sy.diff(v,x)\n",
    "    print(\"Derivative of v wrt x:\",diff_v_x)\n",
    "    diff_v_y=sy.diff(v,y)\n",
    "    print(\"Derivative of v wrt y:\",diff_v_y)\n",
    "    if(diff_u_x == diff_v_y and diff_u_y == -diff_v_x):\n",
    "        print(\"\\nf(z) is an analytic function.\")\n",
    "        return True\n",
    "    else:\n",
    "        print(\"\\nf(z) is not an analytic function.\")\n",
    "        return False"
   ]
  },
  {
   "cell_type": "code",
   "execution_count": 32,
   "metadata": {},
   "outputs": [
    {
     "name": "stdout",
     "output_type": "stream",
     "text": [
      "Given expression f(z): 1.0*I*exp(x)*sin(y) + exp(x)*cos(y)\n",
      "\n",
      "Derivative of u wrt x: exp(x)*cos(y)\n",
      "Derivative of u wrt y: -exp(x)*sin(y)\n",
      "Derivative of v wrt x: exp(x)*sin(y)\n",
      "Derivative of v wrt y: exp(x)*cos(y)\n",
      "\n",
      "f(z) is an analytic function.\n"
     ]
    },
    {
     "data": {
      "text/plain": [
       "True"
      ]
     },
     "execution_count": 32,
     "metadata": {},
     "output_type": "execute_result"
    }
   ],
   "source": [
    "u = sy.exp(x)*sy.cos(y)\n",
    "v = sy.exp(x)*sy.sin(y)\n",
    "analytic(u,v)"
   ]
  },
  {
   "cell_type": "code",
   "execution_count": 33,
   "metadata": {},
   "outputs": [
    {
     "name": "stdout",
     "output_type": "stream",
     "text": [
      "Given expression f(z): 1.0*I*x**2 + tan(x) + 1\n",
      "\n",
      "Derivative of u wrt x: tan(x)**2 + 1\n",
      "Derivative of u wrt y: 0\n",
      "Derivative of v wrt x: 2*x\n",
      "Derivative of v wrt y: 0\n",
      "\n",
      "f(z) is not an analytic function.\n"
     ]
    },
    {
     "data": {
      "text/plain": [
       "False"
      ]
     },
     "execution_count": 33,
     "metadata": {},
     "output_type": "execute_result"
    }
   ],
   "source": [
    "u=sy.tan(x)+1\n",
    "v=x**2\n",
    "analytic(u,v)"
   ]
  },
  {
   "cell_type": "code",
   "execution_count": 34,
   "metadata": {},
   "outputs": [
    {
     "name": "stdout",
     "output_type": "stream",
     "text": [
      "Given expression f(z): 1.0*I*sqrt(x) + sin(x) + cos(x)\n",
      "\n",
      "Derivative of u wrt x: -sin(x) + cos(x)\n",
      "Derivative of u wrt y: 0\n",
      "Derivative of v wrt x: 1/(2*sqrt(x))\n",
      "Derivative of v wrt y: 0\n",
      "\n",
      "f(z) is not an analytic function.\n"
     ]
    },
    {
     "data": {
      "text/plain": [
       "False"
      ]
     },
     "execution_count": 34,
     "metadata": {},
     "output_type": "execute_result"
    }
   ],
   "source": [
    "u=sy.sin(x)+sy.cos(x)\n",
    "v=sy.sqrt(x)\n",
    "analytic(u,v)"
   ]
  },
  {
   "cell_type": "markdown",
   "metadata": {},
   "source": [
    "### <center>Conclusion</center>\n",
    "<center>A few functions were checked if they were analytic or not using the analytic function</center>\n",
    "\n",
    "***\n"
   ]
  },
  {
   "cell_type": "markdown",
   "metadata": {},
   "source": [
    "## <center>LAB 6</center> \n",
    "### <center>Check if $f(z)$ is a harmonic function</center> \n",
    "### <center>Aim</center>\n",
    "<center>Given a complex function $f(z)$, check whether it is harmonic or not</center>"
   ]
  },
  {
   "cell_type": "code",
   "execution_count": 35,
   "metadata": {
    "collapsed": true
   },
   "outputs": [],
   "source": [
    "x,y,z,c= sy.symbols('x y z c')\n",
    "def harmonic(u,v):\n",
    "    expr=u+1j*v\n",
    "    print(\"Given expression f(z):\",expr)\n",
    "    dfx2 = expr.diff(x,x)\n",
    "    print(\"\\nSecond order partial derivative of f(z) wrt x: \",dfx2)\n",
    "    dfy2 = expr.diff(y,y)\n",
    "    print(\"Second order partial derivative of f(z) wrt y: \",dfy2)\n",
    "    laplace = dfx2 + dfy2\n",
    "    if(laplace == 0):\n",
    "        print(\"\\nf(z) is a harmonic function.\")\n",
    "        return True\n",
    "    else:\n",
    "        print(\"\\nf(z) in not a harmonic function.\")\n",
    "        return False"
   ]
  },
  {
   "cell_type": "code",
   "execution_count": 36,
   "metadata": {},
   "outputs": [
    {
     "name": "stdout",
     "output_type": "stream",
     "text": [
      "Given expression f(z): x**2 + 2.0*I*x*y - y**2\n",
      "\n",
      "Second order partial derivative of f(z) wrt x:  2\n",
      "Second order partial derivative of f(z) wrt y:  -2\n",
      "\n",
      "f(z) is a harmonic function.\n"
     ]
    },
    {
     "data": {
      "text/plain": [
       "True"
      ]
     },
     "execution_count": 36,
     "metadata": {},
     "output_type": "execute_result"
    }
   ],
   "source": [
    "u = (x**2)-(y**2)\n",
    "v = 2*x*y\n",
    "harmonic(u,v)"
   ]
  },
  {
   "cell_type": "code",
   "execution_count": 37,
   "metadata": {},
   "outputs": [
    {
     "name": "stdout",
     "output_type": "stream",
     "text": [
      "Given expression f(z): 1.0*I*x**2 + sin(x) + cos(x)\n",
      "\n",
      "Second order partial derivative of f(z) wrt x:  -sin(x) - cos(x) + 2.0*I\n",
      "Second order partial derivative of f(z) wrt y:  0\n",
      "\n",
      "f(z) in not a harmonic function.\n"
     ]
    },
    {
     "data": {
      "text/plain": [
       "False"
      ]
     },
     "execution_count": 37,
     "metadata": {},
     "output_type": "execute_result"
    }
   ],
   "source": [
    "u=sy.sin(x)+sy.cos(x)\n",
    "v=x**2\n",
    "harmonic(u,v)"
   ]
  },
  {
   "cell_type": "code",
   "execution_count": 38,
   "metadata": {},
   "outputs": [
    {
     "name": "stdout",
     "output_type": "stream",
     "text": [
      "Given expression f(z): 1.0*I*x**3 + tan(x)\n",
      "\n",
      "Second order partial derivative of f(z) wrt x:  6.0*I*x + 2*(tan(x)**2 + 1)*tan(x)\n",
      "Second order partial derivative of f(z) wrt y:  0\n",
      "\n",
      "f(z) in not a harmonic function.\n"
     ]
    },
    {
     "data": {
      "text/plain": [
       "False"
      ]
     },
     "execution_count": 38,
     "metadata": {},
     "output_type": "execute_result"
    }
   ],
   "source": [
    "u=sy.tan(x)\n",
    "v=x**3\n",
    "harmonic(u,v)"
   ]
  },
  {
   "cell_type": "markdown",
   "metadata": {},
   "source": [
    "### <center>Conclusion</center>\n",
    "<center>The given functions were checked if they were harmonic or not using the harmonic function</center>\n",
    "\n",
    "\n",
    "***"
   ]
  },
  {
   "cell_type": "markdown",
   "metadata": {},
   "source": [
    "## <center>Lab 7</center>\n",
    "### <center>Check if $v(x,y)$ is a harmonic conjugate of $u(x,y)$</center> \n",
    "### <center>Aim</center>\n",
    "<center></center>\n"
   ]
  },
  {
   "cell_type": "code",
   "execution_count": 50,
   "metadata": {
    "collapsed": true
   },
   "outputs": [],
   "source": [
    "def harmonic(u):\n",
    "    U1 = sy.diff(u, x, 2)\n",
    "    U2 = sy.diff(u, y, 2)\n",
    "    if (U1 + U2 == 0):\n",
    "        return True\n",
    "    else:\n",
    "        return False\n",
    "\n",
    "def harmonic_conj(U, V):\n",
    "    print(\"\\nGiven U(x,y) = \",U)\n",
    "    print(\"Given V(x,y) = \",V, \"\\n\")\n",
    "   \n",
    "    if (analytic(U,V) == True and harmonic(V) == True):\n",
    "        print(\"\\n\", U, \"is the harmonic conjugate of \", V)\n",
    "    else:\n",
    "        print(\"\\nU(x,y) is not the harmonic conjugate of V(x,y)\")"
   ]
  },
  {
   "cell_type": "code",
   "execution_count": 51,
   "metadata": {},
   "outputs": [
    {
     "name": "stdout",
     "output_type": "stream",
     "text": [
      "\n",
      "Given U(x,y) =  sin(x)\n",
      "Given V(x,y) =  tan(y) \n",
      "\n",
      "Given expression f(z): sin(x) + 1.0*I*tan(y)\n",
      "\n",
      "Derivative of u wrt x: cos(x)\n",
      "Derivative of u wrt y: 0\n",
      "Derivative of v wrt x: 0\n",
      "Derivative of v wrt y: tan(y)**2 + 1\n",
      "\n",
      "f(z) is not an analytic function.\n",
      "\n",
      "U(x,y) is not the harmonic conjugate of V(x,y)\n"
     ]
    }
   ],
   "source": [
    "harmonic_conj(sy.sin(x),sy.tan(y))"
   ]
  },
  {
   "cell_type": "code",
   "execution_count": 52,
   "metadata": {},
   "outputs": [
    {
     "name": "stdout",
     "output_type": "stream",
     "text": [
      "\n",
      "Given U(x,y) =  x**2 - y**2\n",
      "Given V(x,y) =  2*x*y \n",
      "\n",
      "Given expression f(z): x**2 + 2.0*I*x*y - y**2\n",
      "\n",
      "Derivative of u wrt x: 2*x\n",
      "Derivative of u wrt y: -2*y\n",
      "Derivative of v wrt x: 2*y\n",
      "Derivative of v wrt y: 2*x\n",
      "\n",
      "f(z) is an analytic function.\n",
      "\n",
      " x**2 - y**2 is the harmonic conjugate of  2*x*y\n"
     ]
    }
   ],
   "source": [
    "harmonic_conj((x**2 - y**2),2*x*y)"
   ]
  },
  {
   "cell_type": "code",
   "execution_count": 53,
   "metadata": {},
   "outputs": [
    {
     "name": "stdout",
     "output_type": "stream",
     "text": [
      "\n",
      "Given U(x,y) =  cos(x)\n",
      "Given V(x,y) =  exp(x) \n",
      "\n",
      "Given expression f(z): 1.0*I*exp(x) + cos(x)\n",
      "\n",
      "Derivative of u wrt x: -sin(x)\n",
      "Derivative of u wrt y: 0\n",
      "Derivative of v wrt x: exp(x)\n",
      "Derivative of v wrt y: 0\n",
      "\n",
      "f(z) is not an analytic function.\n",
      "\n",
      "U(x,y) is not the harmonic conjugate of V(x,y)\n"
     ]
    }
   ],
   "source": [
    "harmonic_conj(sy.cos(x),sy.exp(x))"
   ]
  },
  {
   "cell_type": "markdown",
   "metadata": {},
   "source": [
    "#### If $v(x,y)$ is a harmonic conjugate, find $u(x,y)$"
   ]
  },
  {
   "cell_type": "code",
   "execution_count": 64,
   "metadata": {
    "collapsed": true
   },
   "outputs": [],
   "source": [
    "from sympy import *\n",
    "import random\n",
    "\n",
    "def harmonic_conjugate (expr):\n",
    "    ux=Derivative(expr,x,evaluate=True)\n",
    "    uy=Derivative(expr,y,evaluate=True)\n",
    "    v=integrate(ux,y)\n",
    "    P=Function('P')(x)\n",
    "    v=v+P\n",
    "    vx=Derivative(v,x,evaluate=True)\n",
    "    vx= vx+uy\n",
    "    Eqn=Eq(vx,0)\n",
    "    P_solved=dsolve(Eqn,P)\n",
    "    v=v.subs(P,P_solved.rhs)\n",
    "    C1=Symbol('C1')\n",
    "    v=v.subs(C1,random.randint(1,100))\n",
    "    print(\"u(x,y)=\"+str(v))"
   ]
  },
  {
   "cell_type": "code",
   "execution_count": 65,
   "metadata": {},
   "outputs": [
    {
     "name": "stdout",
     "output_type": "stream",
     "text": [
      "u(x,y)=y*(tan(x)**2 + 1) - y/cos(x)**2 + 29\n"
     ]
    }
   ],
   "source": [
    "harmonic_conjugate(sy.tan(x))"
   ]
  },
  {
   "cell_type": "code",
   "execution_count": 66,
   "metadata": {},
   "outputs": [
    {
     "name": "stdout",
     "output_type": "stream",
     "text": [
      "u(x,y)=13\n"
     ]
    }
   ],
   "source": [
    "harmonic_conjugate(sy.exp(x))"
   ]
  },
  {
   "cell_type": "code",
   "execution_count": 67,
   "metadata": {},
   "outputs": [
    {
     "name": "stdout",
     "output_type": "stream",
     "text": [
      "u(x,y)=y*(-sin(x) + cos(x)) - sqrt(2)*y*cos(x + pi/4) + 19\n"
     ]
    }
   ],
   "source": [
    "harmonic_conjugate(sy.sin(x)+sy.cos(x))"
   ]
  },
  {
   "cell_type": "markdown",
   "metadata": {},
   "source": [
    "#### To check if $u(x,y)$ is harmonic function and find its conjugate"
   ]
  },
  {
   "cell_type": "code",
   "execution_count": 70,
   "metadata": {
    "collapsed": true
   },
   "outputs": [],
   "source": [
    "from cmath import *\n",
    "from sympy import *\n",
    "x,y=symbols('x,y')\n",
    "\n",
    "def find_hc(f):\n",
    "    U=f\n",
    "    P=Function('P')(x)\n",
    "    dUdx=U.diff(x,1)\n",
    "    dUdy=U.diff(y,1)\n",
    "    dVdy=dUdx\n",
    "    dVdx=-dUdy\n",
    "    k1=integrate(dVdy,y)\n",
    "    V=k1+P\n",
    "    k2=diff(V,x) #dVdx\n",
    "    k3=Eq(k2,dVdx)\n",
    "    v=dsolve(k3,P)\n",
    "    Pval=v.rhs\n",
    "    print(\"The harmonic conjugate of {0} is given by {1}\".format(U,V.subs({P:Pval})))"
   ]
  },
  {
   "cell_type": "markdown",
   "metadata": {},
   "source": [
    "$x^{2}-y^{2}$"
   ]
  },
  {
   "cell_type": "code",
   "execution_count": 71,
   "metadata": {},
   "outputs": [
    {
     "name": "stdout",
     "output_type": "stream",
     "text": [
      "The harmonic conjugate of x**2 - y**2 is given by C1 + 2*x*y\n"
     ]
    }
   ],
   "source": [
    "find_hc(x**2-y**2)"
   ]
  },
  {
   "cell_type": "code",
   "execution_count": 73,
   "metadata": {},
   "outputs": [
    {
     "name": "stdout",
     "output_type": "stream",
     "text": [
      "The harmonic conjugate of x*y is given by C1 - x**2/2 + y**2/2\n"
     ]
    }
   ],
   "source": [
    "find_hc(x*y)"
   ]
  },
  {
   "cell_type": "code",
   "execution_count": 76,
   "metadata": {},
   "outputs": [
    {
     "name": "stdout",
     "output_type": "stream",
     "text": [
      "The harmonic conjugate of x**3 + 3*x**2 - 3*x*y**2 + 2*x - 3*y**2 + 1 is given by C1 - y**3 + y*(3*x**2 + 6*x + 2)\n"
     ]
    }
   ],
   "source": [
    "find_hc(x**3 - (3*x*(y**2))+3*(x**2)-3*y**2+(2*x)+1)"
   ]
  },
  {
   "cell_type": "markdown",
   "metadata": {},
   "source": [
    "### <center>Conclusion</center>\n",
    "<center>u(x,y) was found when v(x,y) was given. Various function were checked if they were harmonic or not.</center>\n",
    "\n",
    "\n",
    "\n",
    "****"
   ]
  },
  {
   "cell_type": "markdown",
   "metadata": {},
   "source": [
    "\n",
    "## <center>Lab 8</center>\n",
    "### <center>Bilinear Transformation</center> \n",
    "### <center>Aim</center>\n",
    "<center></center>\n"
   ]
  },
  {
   "cell_type": "markdown",
   "metadata": {},
   "source": [
    "### <center>Conclusion</center>\n",
    "<center></center>\n",
    "\n",
    "\n",
    "***"
   ]
  }
 ],
 "metadata": {
  "kernelspec": {
   "display_name": "Python 3",
   "language": "python",
   "name": "python3"
  },
  "language_info": {
   "codemirror_mode": {
    "name": "ipython",
    "version": 3
   },
   "file_extension": ".py",
   "mimetype": "text/x-python",
   "name": "python",
   "nbconvert_exporter": "python",
   "pygments_lexer": "ipython3",
   "version": "3.6.8"
  }
 },
 "nbformat": 4,
 "nbformat_minor": 2
}
